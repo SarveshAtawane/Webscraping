{
 "cells": [
  {
   "cell_type": "code",
   "execution_count": 5,
   "id": "a0b1bec8",
   "metadata": {
    "scrolled": false
   },
   "outputs": [],
   "source": [
    "import requests\n",
    "from bs4 import BeautifulSoup"
   ]
  },
  {
   "cell_type": "code",
   "execution_count": 4,
   "id": "6776c613",
   "metadata": {},
   "outputs": [
    {
     "name": "stdout",
     "output_type": "stream",
     "text": [
      "['TCS', 'Accenture', 'Cognizant', 'Wipro', 'HDFC Bank', 'ICICI Bank', 'Infosys', 'Capgemini', 'HCLTech', 'Tech Mahindra', 'Genpact', 'Axis Bank', 'Concentrix Corporation', 'Amazon', 'Teleperformance', 'Reliance Jio', 'IBM', 'Larsen & Toubro Limited', 'Reliance Retail', 'HDB Financial Services']\n",
      "['Vodafone Idea', \"BYJU'S\", 'Deloitte', 'Kotak Mahindra Bank', 'Reliance Industries', 'Bharti Airtel', 'iEnergizer', 'Tata Motors', 'Flipkart', 'WNS', 'IndusInd Bank', 'AU Small Finance Bank', 'Ernst & Young', 'Mahindra & Mahindra', 'Infosys BPM', 'DXC Technology', 'IDFC FIRST Bank', 'Conneqt Business Solutions', 'HDFC Life', 'LTIMindtree']\n",
      "['Bajaj Finserv', 'Mphasis', 'PwC', 'HSBC Group', 'Samsung', 'Hinduja Global Solutions', 'Startek', 'Ericsson', 'Maruti Suzuki', 'Yes Bank', 'Asian Paints', 'Cipla Pharmaceutical', \"Dr. Reddy's\", 'Sutherland Global Services', 'EXL Service', 'UltraTech Cement', 'NTT DATA', 'Bandhan Bank', 'TATA Steel', 'Paytm']\n",
      "['ICICI Prudential Life Insurance', 'Jana Small Finance Bank', 'Lupin', 'Bajaj Finance', 'Indian Army', 'HCL Group', 'Udaan', 'L&T Infotech', 'ITC', 'Zydus Lifesciences', 'Wells Fargo', 'Quess', 'Delhivery', 'JP Morgan Chase', 'FIS', 'Hindustan Unilever', 'Amazon Development Centre India', 'IIFL Finance', 'Hexaware Technologies', 'JSW Steel']\n",
      "['Sun Pharmaceutical Industries', 'Ujjivan Small Finance Bank', 'Home Credit Finance', 'Max Life Insurance', 'Muthoot Finance', 'Shapoorji Pallonji Group', 'KPMG India', 'Oracle', 'Aurobindo Pharma', 'OPPO', 'Tata Projects', 'eClerx', 'Capgemini Technology Services India Limited', 'Shriram Transport Finance', 'Ashok Leyland', 'Siemens', 'Apollo Hospitals', 'JLL', 'L&T Construction', 'Vivo']\n",
      "['Omega Healthcare', 'JustDial', 'First Source', 'Megha Engineering & Infrastructures', 'Hero MotoCorp', 'Hewlett-Packard Enterprise', 'Bajaj Allianz Life Insurance', 'Mahindra & Mahindra Financial Services', 'Cyient', 'ICICI Lombard General Insurance Company', 'D Mart', 'BigBasket', 'Coforge', 'Indiamart Intermesh', 'Virtusa Consulting Services', 'Hyundai Motor', 'Equitas Small Finance Bank', 'TVS Motor', 'Nagarro', 'GlobalLogic']\n",
      "['UST', 'Atos Syntel', 'Reliance Communications', 'Manappuram Finance', 'IQVIA', 'Bosch Global Software Technologies', 'Bosch', 'Cummins', 'SBI Cards & Payment Services', 'BNY Mellon', 'SMFG India Credit', 'Oyo Rooms', 'BT Group', 'Schneider Electric', 'Amdocs', 'Cholamandalam Investment & Finance', 'Ekart Logistics', 'L&T Technology Services', 'CBRE', 'State Bank of India']\n",
      "['Swiggy', 'Future Group', 'JBM Group', 'Dell', 'Ecom Express', 'SBI Life Insurance Company', 'Bajaj Auto', 'Optum', 'KEC International', 'Nagarjuna Construction Company', 'Muthoot Fincorp', 'Aditya Birla Fashion and Retail', 'Piramal Capital Housing Finance', 'Viatris', 'Royal Enfield', 'Samvardhana Motherson Group', 'Tata Communications', 'L&T Finance', 'Kogta Financial India Limited', 'LG Electronics']\n",
      "['Godrej & Boyce Manufacturing', 'Intas Pharmaceuticals', 'John Deere', 'Varun Beverages', 'Thermax Limited', 'Randstad', 'Whitehat jr', 'Persistent Systems', 'Hetero Drugs', 'Havells', 'Deutsche Bank', 'Macleods Pharmaceuticals', 'CARS24', 'Abbott Healthcare', 'Sodexo', 'Subros', 'Ford Motor', 'VE Commercial Vehicles', 'Team Lease', 'Automatic Data Processing (ADP)']\n"
     ]
    }
   ],
   "source": [
    "for page in range(1,10):\n",
    "    add = f\"&page={page}\"\n",
    "    url = 'https://www.ambitionbox.com/list-of-companies?campaign=desktop_nav'+add\n",
    "\n",
    "    headers = {\n",
    "        'User-Agent': 'Mozilla/5.0 (Windows NT 10.0; Win64; x64) AppleWebKit/537.36 (KHTML, like Gecko) Chrome/91.0.4472.124 Safari/537.36',\n",
    "    }\n",
    "\n",
    "    webpage = requests.get(url, headers=headers).text\n",
    "    soup = BeautifulSoup(webpage, 'html.parser')\n",
    "    company_elements = soup.find_all('h2', class_='companyCardWrapper__companyName')\n",
    "    company_names = [element.get_text(strip=True) for element in company_elements]\n",
    "    print(company_names)"
   ]
  },
  {
   "cell_type": "code",
   "execution_count": null,
   "id": "5b9b7927",
   "metadata": {},
   "outputs": [],
   "source": []
  },
  {
   "cell_type": "code",
   "execution_count": null,
   "id": "81d627d6",
   "metadata": {},
   "outputs": [],
   "source": []
  },
  {
   "cell_type": "code",
   "execution_count": null,
   "id": "37cc0fd3",
   "metadata": {},
   "outputs": [],
   "source": []
  },
  {
   "cell_type": "code",
   "execution_count": null,
   "id": "07d9a552",
   "metadata": {},
   "outputs": [],
   "source": []
  }
 ],
 "metadata": {
  "kernelspec": {
   "display_name": "Python 3 (ipykernel)",
   "language": "python",
   "name": "python3"
  },
  "language_info": {
   "codemirror_mode": {
    "name": "ipython",
    "version": 3
   },
   "file_extension": ".py",
   "mimetype": "text/x-python",
   "name": "python",
   "nbconvert_exporter": "python",
   "pygments_lexer": "ipython3",
   "version": "3.10.9"
  }
 },
 "nbformat": 4,
 "nbformat_minor": 5
}
